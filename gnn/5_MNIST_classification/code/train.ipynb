{
 "cells": [
  {
   "cell_type": "markdown",
   "metadata": {},
   "source": [
    "# MNIST 手写数字识别 CNN"
   ]
  },
  {
   "cell_type": "code",
   "execution_count": 1,
   "metadata": {},
   "outputs": [],
   "source": [
    "import torch\n",
    "from torch import nn\n",
    "import torch.optim as optim\n",
    "from torchvision import datasets, transforms\n",
    "from torch.utils.data import DataLoader, random_split"
   ]
  },
  {
   "cell_type": "markdown",
   "metadata": {},
   "source": [
    "定义一个简单的CNN模型对手写数字进行识别"
   ]
  },
  {
   "cell_type": "code",
   "execution_count": 2,
   "metadata": {},
   "outputs": [],
   "source": [
    "# Define a vanilla CNN model\n",
    "class CNN(nn.Module):\n",
    "    def __init__(self):\n",
    "        super(CNN, self).__init__()\n",
    "\n",
    "        self.conv_layers = nn.Sequential(\n",
    "            # (n, 1, 28, 28) -> (n,32,28,28)\n",
    "            nn.Conv2d(1, 32, kernel_size=3, stride=1, padding=1),\n",
    "            nn.ReLU(),\n",
    "            # (n,32,28,28)->(n,32,14,14)\n",
    "            nn.MaxPool2d(kernel_size=2, stride=2),\n",
    "            # (n,32,14,14)->(n,64,14,14)\n",
    "            nn.Conv2d(32, 64, kernel_size=3, stride=1, padding=1),\n",
    "            nn.ReLU(),\n",
    "            # (n,64,14,14)->(n,64,7,7)\n",
    "            nn.MaxPool2d(kernel_size=2, stride=2),\n",
    "        )\n",
    "\n",
    "        self.fc_layers = nn.Sequential(\n",
    "            # (n,64*7*7)->(n,128)\n",
    "            nn.Linear(64 * 7 * 7, 128),\n",
    "            nn.ReLU(),\n",
    "            # (n,128)->(n,10)\n",
    "            nn.Linear(128, 10),\n",
    "        )\n",
    "\n",
    "    def forward(self, x):\n",
    "        x = self.conv_layers(x)\n",
    "        x = x.view(x.size(0), -1)  # flatten the tensor\n",
    "        x = self.fc_layers(x)\n",
    "        return x"
   ]
  },
  {
   "cell_type": "markdown",
   "metadata": {},
   "source": [
    "# 对模型进行训练"
   ]
  },
  {
   "cell_type": "code",
   "execution_count": 3,
   "metadata": {},
   "outputs": [
    {
     "name": "stdout",
     "output_type": "stream",
     "text": [
      "[60000, 28, 28]\n"
     ]
    },
    {
     "name": "stdout",
     "output_type": "stream",
     "text": [
      "mean:  tensor(0.1307) std:  tensor(0.3081)\n"
     ]
    }
   ],
   "source": [
    "# Get mean and std of dataset for normalizing the data\n",
    "trainset = datasets.MNIST(\n",
    "    root=\"../dataset\",\n",
    "    train=True,\n",
    "    download=True,\n",
    "    transform=transforms.ToTensor(),\n",
    ")\n",
    "\n",
    "# Prepare the data\n",
    "# Normalize data based on its mean and std\n",
    "print(list(trainset.data.size()))\n",
    "dataloader = DataLoader(trainset, batch_size=len(trainset), shuffle=True)\n",
    "# iterate through the dataloader\n",
    "for images, _ in dataloader:\n",
    "    # calculate mean and std\n",
    "    mean = torch.mean(images)\n",
    "    std = torch.std(images)\n",
    "    break  # just once, for batch_size=len(trainset)\n",
    "print(\"mean: \", mean, \"std: \", std)\n",
    "\n",
    "transform = transforms.Compose(\n",
    "    [transforms.ToTensor(), transforms.Normalize(mean, std)]\n",
    ")"
   ]
  },
  {
   "cell_type": "code",
   "execution_count": 4,
   "metadata": {},
   "outputs": [],
   "source": [
    "# load traning data, split as training and validation data\n",
    "train_data = datasets.MNIST(\n",
    "    root=\"../dataset\", train=True, download=True, transform=transform\n",
    ")\n",
    "num_train = len(train_data)\n",
    "valid_size = int(0.1 * num_train)\n",
    "train_size = num_train - valid_size\n",
    "train_dataset, valid_dataset = random_split(\n",
    "    train_data, [train_size, valid_size]\n",
    ")\n",
    "\n",
    "trainloader = DataLoader(train_dataset, batch_size=64, shuffle=True)\n",
    "validloader = DataLoader(valid_dataset, batch_size=64, shuffle=False)"
   ]
  },
  {
   "cell_type": "markdown",
   "metadata": {},
   "source": [
    "加载测试数据, 对模型进行训练"
   ]
  },
  {
   "cell_type": "code",
   "execution_count": 5,
   "metadata": {},
   "outputs": [],
   "source": [
    "# load the test data\n",
    "test_data = datasets.MNIST(\n",
    "    root=\"../dataset\", train=False, download=True, transform=transform\n",
    ")\n",
    "testloader = DataLoader(test_data, batch_size=64, shuffle=False)"
   ]
  },
  {
   "cell_type": "code",
   "execution_count": 6,
   "metadata": {},
   "outputs": [],
   "source": [
    "device = torch.device(\"cuda\" if torch.cuda.is_available else \"cpu\")\n",
    "# initialize the model\n",
    "model = CNN().to(device)\n",
    "\n",
    "# set up the loss and optimizer\n",
    "criterion = nn.CrossEntropyLoss()\n",
    "optimizer = optim.Adam(model.parameters(), lr=0.001)"
   ]
  },
  {
   "cell_type": "code",
   "execution_count": 9,
   "metadata": {},
   "outputs": [
    {
     "name": "stdout",
     "output_type": "stream",
     "text": [
      "Epoch 1,loss: 0.028304429684096456\n",
      "Validation loss: 0.04271628986208135, Validation accuracy: 98.81666666666666%\n",
      "Epoch 2,loss: 0.021274503798435967\n",
      "Validation loss: 0.03697977416115773, Validation accuracy: 99.15%\n",
      "Epoch 3,loss: 0.01537711199552354\n",
      "Validation loss: 0.049520803215118384, Validation accuracy: 98.75%\n",
      "Epoch 4,loss: 0.01282685359298321\n",
      "Validation loss: 0.0530124326333533, Validation accuracy: 98.68333333333334%\n",
      "Epoch 5,loss: 0.011363748343382605\n",
      "Validation loss: 0.0417140398139383, Validation accuracy: 99.1%\n",
      "Epoch 6,loss: 0.0090890347068663\n",
      "Validation loss: 0.04158499751673012, Validation accuracy: 99.06666666666666%\n",
      "Epoch 7,loss: 0.007120275658035777\n",
      "Validation loss: 0.044122362386646116, Validation accuracy: 99.16666666666667%\n",
      "Epoch 8,loss: 0.007252769251623118\n",
      "Validation loss: 0.04512742588576778, Validation accuracy: 99.16666666666667%\n",
      "Epoch 9,loss: 0.00626154085346377\n",
      "Validation loss: 0.051429426284004605, Validation accuracy: 99.0%\n",
      "Epoch 10,loss: 0.005433234465427955\n",
      "Validation loss: 0.050215302291842415, Validation accuracy: 99.13333333333333%\n",
      "Finished Training\n"
     ]
    }
   ],
   "source": [
    "# training loop\n",
    "# use running_loss to record the accumulated loss over one epoch, and use\n",
    "# average loss to indicate the performance of model.\n",
    "num_epochs = 10\n",
    "for epoch in range(num_epochs):  # loop over the dataset multiple times\n",
    "    running_loss = 0.0\n",
    "    model.train()  # set model to train mode\n",
    "    for inputs, labels in trainloader:\n",
    "        # get the inputs; data is a list of [inputs, labels]\n",
    "        inputs, labels = inputs.to(device), labels.to(device)\n",
    "\n",
    "        # zero the parameter gradients\n",
    "        optimizer.zero_grad()\n",
    "\n",
    "        # forward, backward, optimize\n",
    "        outputs = model(inputs)\n",
    "        loss = criterion(outputs, labels)\n",
    "        loss.backward()\n",
    "        optimizer.step()\n",
    "\n",
    "        running_loss += loss.item()\n",
    "    print(f\"Epoch {epoch+1},loss: {running_loss/len(trainloader)}\")\n",
    "\n",
    "    # validation phase\n",
    "    model.eval()  # set the model to evaluation mode\n",
    "    with torch.no_grad():\n",
    "        running_loss = 0.0\n",
    "        correct_predictions = 0\n",
    "        total_predictions = 0\n",
    "        for inputs, labels in validloader:\n",
    "            inputs, labels = inputs.to(device), labels.to(device)\n",
    "            outputs = model(inputs)\n",
    "            loss = criterion(outputs, labels)\n",
    "\n",
    "            running_loss += loss.item()\n",
    "\n",
    "            _, predicted = torch.max(outputs.data, 1)\n",
    "            total_predictions += labels.size(0)\n",
    "            correct_predictions += (predicted == labels).sum().item()\n",
    "\n",
    "        print(\n",
    "            f\"Validation loss: {running_loss/len(validloader)}, Validation accuracy: {correct_predictions/total_predictions*100}%\"\n",
    "        )\n",
    "\n",
    "print(\"Finished Training\")"
   ]
  },
  {
   "cell_type": "markdown",
   "metadata": {},
   "source": [
    "对模型进行测试, 模型可以达到99.16%的准确率."
   ]
  },
  {
   "cell_type": "code",
   "execution_count": 10,
   "metadata": {},
   "outputs": [
    {
     "name": "stdout",
     "output_type": "stream",
     "text": [
      "Test Accuracy: 99.16%\n"
     ]
    }
   ],
   "source": [
    "# Testing phase\n",
    "model.eval()\n",
    "with torch.no_grad():\n",
    "    correct_predictions = 0\n",
    "    total_predictions = 0\n",
    "    for inputs, labels in testloader:\n",
    "        inputs, labels = inputs.to(device), labels.to(device)\n",
    "\n",
    "        outputs = model(inputs)\n",
    "\n",
    "        _, predicted = torch.max(outputs.data, 1)\n",
    "        total_predictions += labels.size(0)\n",
    "        correct_predictions += (predicted == labels).sum().item()\n",
    "\n",
    "    print(f\"Test Accuracy: {correct_predictions/total_predictions*100}%\")"
   ]
  },
  {
   "cell_type": "code",
   "execution_count": null,
   "metadata": {},
   "outputs": [],
   "source": []
  }
 ],
 "metadata": {
  "kernelspec": {
   "display_name": "torch",
   "language": "python",
   "name": "python3"
  },
  "language_info": {
   "codemirror_mode": {
    "name": "ipython",
    "version": 3
   },
   "file_extension": ".py",
   "mimetype": "text/x-python",
   "name": "python",
   "nbconvert_exporter": "python",
   "pygments_lexer": "ipython3",
   "version": "3.10.9"
  },
  "orig_nbformat": 4
 },
 "nbformat": 4,
 "nbformat_minor": 2
}
